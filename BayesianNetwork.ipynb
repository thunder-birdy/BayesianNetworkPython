{
 "cells": [
  {
   "cell_type": "code",
   "execution_count": 1,
   "metadata": {
    "collapsed": false
   },
   "outputs": [],
   "source": [
    "import unittest\n",
    "import jgraph\n",
    "import os"
   ]
  },
  {
   "cell_type": "code",
   "execution_count": 2,
   "metadata": {
    "collapsed": true
   },
   "outputs": [],
   "source": [
    "import networkx as nx\n",
    "import matplotlib.pyplot as plt"
   ]
  },
  {
   "cell_type": "code",
   "execution_count": 56,
   "metadata": {
    "collapsed": false
   },
   "outputs": [
    {
     "data": {
      "text/plain": [
       "<module 'BayesianDataStructure' from 'BayesianDataStructure.py'>"
      ]
     },
     "execution_count": 56,
     "metadata": {},
     "output_type": "execute_result"
    }
   ],
   "source": [
    "os.chdir(r\"D:\\projects\\data_compression\\BayesianNetworkPython\")\n",
    "import BayesianDataStructure\n",
    "reload(BayesianDataStructure)"
   ]
  },
  {
   "cell_type": "code",
   "execution_count": 16,
   "metadata": {
    "collapsed": false
   },
   "outputs": [],
   "source": [
    "def draw_graph(graph, labels=None, graph_layout='shell',\n",
    "               node_size=1600, node_color='blue', node_alpha=0.3,\n",
    "               node_text_size=12,\n",
    "               edge_color='blue', edge_alpha=0.3, edge_tickness=1,\n",
    "               edge_text_pos=0.3,\n",
    "               text_font='sans-serif'):\n",
    "\n",
    "    # create networkx graph\n",
    "    G=nx.Graph()\n",
    "\n",
    "    # add edges\n",
    "    for edge in graph:\n",
    "        G.add_edge(edge[0], edge[1])\n",
    "\n",
    "    # these are different layouts for the network you may try\n",
    "    # shell seems to work best\n",
    "    if graph_layout == 'spring':\n",
    "        graph_pos=nx.spring_layout(G)\n",
    "    elif graph_layout == 'spectral':\n",
    "        graph_pos=nx.spectral_layout(G)\n",
    "    elif graph_layout == 'random':\n",
    "        graph_pos=nx.random_layout(G)\n",
    "    else:\n",
    "        graph_pos=nx.shell_layout(G)\n",
    "\n",
    "    # draw graph\n",
    "    nx.draw_networkx_nodes(G,graph_pos,node_size=node_size, \n",
    "                           alpha=node_alpha, node_color=node_color)\n",
    "    nx.draw_networkx_edges(G,graph_pos,width=edge_tickness,\n",
    "                           alpha=edge_alpha,edge_color=edge_color)\n",
    "    nx.draw_networkx_labels(G, graph_pos,font_size=node_text_size,\n",
    "                            font_family=text_font)\n",
    "\n",
    "    if labels is None:\n",
    "        labels = range(len(graph))\n",
    "\n",
    "    edge_labels = dict(zip(graph, labels))\n",
    "    nx.draw_networkx_edge_labels(G, graph_pos, edge_labels=edge_labels, \n",
    "                                 label_pos=edge_text_pos)\n",
    "\n",
    "    # show graph\n",
    "    plt.show()"
   ]
  },
  {
   "cell_type": "code",
   "execution_count": 64,
   "metadata": {
    "collapsed": false
   },
   "outputs": [
    {
     "name": "stderr",
     "output_type": "stream",
     "text": [
      "DEBUG:root:total edges:21\n",
      "DEBUG:root:HasEducation<->HasPaid: 0.184299291087\n",
      "DEBUG:root:HasEducation<->GEO: 0.224299545108\n",
      "DEBUG:root:HasEducation<->SKU: 1.01082902517\n",
      "DEBUG:root:HasEducation<->OS: 0.0221935378469\n",
      "DEBUG:root:HasEducation<->AppType: 0.0461421242789\n",
      "DEBUG:root:HasEducation<->Agent: 0.125311573842\n",
      "DEBUG:root:HasPaid<->GEO: 0.187183188029\n",
      "DEBUG:root:HasPaid<->SKU: 0.188524051342\n",
      "DEBUG:root:HasPaid<->OS: 0.00306242986807\n",
      "DEBUG:root:HasPaid<->AppType: 0.00559801943448\n",
      "DEBUG:root:HasPaid<->Agent: 0.0297473834999\n",
      "DEBUG:root:GEO<->SKU: 0.271692030531\n",
      "DEBUG:root:GEO<->OS: 0.0291361795478\n",
      "DEBUG:root:GEO<->AppType: 0.0634628605984\n",
      "DEBUG:root:GEO<->Agent: 0.186274211285\n",
      "DEBUG:root:SKU<->OS: 0.0278315850599\n",
      "DEBUG:root:SKU<->AppType: 0.0675524603726\n",
      "DEBUG:root:SKU<->Agent: 0.172502688932\n",
      "DEBUG:root:OS<->AppType: 0.267021526399\n",
      "DEBUG:root:OS<->Agent: 0.771003582722\n",
      "DEBUG:root:AppType<->Agent: 1.29986077215\n",
      "DEBUG:root:all valid edges:15\n",
      "DEBUG:root:Graph ends, edges left:6\n"
     ]
    }
   ],
   "source": [
    "dp = BayesianDataStructure.DataParser()\n",
    "dp.readCsvFile(r\"D:\\projects\\data_compression\\BayesianNetworkPython\\DATA\\AggUsage_OneDriveForBusiness_Aggregated_selectColumns.txt\", True, 300000)\n",
    "Measurements = map(lambda x: float(x), dp.ColumnVals[-1])\n",
    "bynt = BayesianDataStructure.BayesianNetwork(dp.ColumnNames[:-1], dp.ColumnVals[:-1], Measurements)\n",
    "\n",
    "bynt.Draft()\n",
    "# if edge labels is not specified, numeric labels (0, 1, 2...) will be used\n",
    "#draw_graph(graph)"
   ]
  },
  {
   "cell_type": "code",
   "execution_count": 58,
   "metadata": {
    "collapsed": false
   },
   "outputs": [],
   "source": [
    "bynt.Thickening()"
   ]
  },
  {
   "cell_type": "code",
   "execution_count": 62,
   "metadata": {
    "collapsed": false
   },
   "outputs": [],
   "source": [
    "graph, CMIs = bynt.BasicGraph.GetEdgesAndCMIs()\n",
    "# you may name your edge labels\n",
    "CMIs4f = map(lambda x:\"%.4f\"%x, CMIs)\n",
    "draw_graph(graph, CMIs4f)"
   ]
  },
  {
   "cell_type": "code",
   "execution_count": 63,
   "metadata": {
    "collapsed": false
   },
   "outputs": [
    {
     "ename": "AttributeError",
     "evalue": "Graph instance has no attribute 'GetNeighborsInPathBetweenTwoNodes'",
     "output_type": "error",
     "traceback": [
      "\u001b[1;31m---------------------------------------------------------------------------\u001b[0m",
      "\u001b[1;31mAttributeError\u001b[0m                            Traceback (most recent call last)",
      "\u001b[1;32m<ipython-input-63-29cb4e3e151e>\u001b[0m in \u001b[0;36m<module>\u001b[1;34m()\u001b[0m\n\u001b[0;32m      1\u001b[0m \u001b[0mbg\u001b[0m \u001b[1;33m=\u001b[0m \u001b[0mbynt\u001b[0m\u001b[1;33m.\u001b[0m\u001b[0mBasicGraph\u001b[0m\u001b[1;33m\u001b[0m\u001b[0m\n\u001b[0;32m      2\u001b[0m \u001b[0mpaths\u001b[0m \u001b[1;33m=\u001b[0m \u001b[0mbg\u001b[0m\u001b[1;33m.\u001b[0m\u001b[0mGetPathBetweenTwoNodes\u001b[0m\u001b[1;33m(\u001b[0m\u001b[0mbg\u001b[0m\u001b[1;33m.\u001b[0m\u001b[0mNodesList\u001b[0m\u001b[1;33m[\u001b[0m\u001b[1;36m0\u001b[0m\u001b[1;33m]\u001b[0m\u001b[1;33m,\u001b[0m \u001b[0mbg\u001b[0m\u001b[1;33m.\u001b[0m\u001b[0mNodesList\u001b[0m\u001b[1;33m[\u001b[0m\u001b[1;36m6\u001b[0m\u001b[1;33m]\u001b[0m\u001b[1;33m)\u001b[0m\u001b[1;33m\u001b[0m\u001b[0m\n\u001b[1;32m----> 3\u001b[1;33m \u001b[0mneibors\u001b[0m \u001b[1;33m=\u001b[0m \u001b[0mbg\u001b[0m\u001b[1;33m.\u001b[0m\u001b[0mGetNeighborsInPathBetweenTwoNodes\u001b[0m\u001b[1;33m(\u001b[0m\u001b[0mbg\u001b[0m\u001b[1;33m.\u001b[0m\u001b[0mNodesList\u001b[0m\u001b[1;33m[\u001b[0m\u001b[1;36m0\u001b[0m\u001b[1;33m]\u001b[0m\u001b[1;33m,\u001b[0m \u001b[0mbg\u001b[0m\u001b[1;33m.\u001b[0m\u001b[0mNodesList\u001b[0m\u001b[1;33m[\u001b[0m\u001b[1;36m6\u001b[0m\u001b[1;33m]\u001b[0m\u001b[1;33m)\u001b[0m\u001b[1;33m\u001b[0m\u001b[0m\n\u001b[0m\u001b[0;32m      4\u001b[0m \u001b[1;32mfor\u001b[0m \u001b[0mline\u001b[0m \u001b[1;32min\u001b[0m \u001b[0mpaths\u001b[0m\u001b[1;33m:\u001b[0m\u001b[1;33m\u001b[0m\u001b[0m\n\u001b[0;32m      5\u001b[0m     \u001b[1;32mprint\u001b[0m \u001b[0mmap\u001b[0m\u001b[1;33m(\u001b[0m\u001b[1;32mlambda\u001b[0m \u001b[0mx\u001b[0m\u001b[1;33m:\u001b[0m\u001b[0mbg\u001b[0m\u001b[1;33m.\u001b[0m\u001b[0mNodesList\u001b[0m\u001b[1;33m[\u001b[0m\u001b[0mx\u001b[0m\u001b[1;33m]\u001b[0m\u001b[1;33m.\u001b[0m\u001b[0mNodeName\u001b[0m\u001b[1;33m,\u001b[0m \u001b[0mline\u001b[0m\u001b[1;33m)\u001b[0m\u001b[1;33m\u001b[0m\u001b[0m\n",
      "\u001b[1;31mAttributeError\u001b[0m: Graph instance has no attribute 'GetNeighborsInPathBetweenTwoNodes'"
     ]
    }
   ],
   "source": [
    "bg = bynt.BasicGraph\n",
    "paths = bg.GetPathBetweenTwoNodes(bg.NodesList[0], bg.NodesList[6])\n",
    "neibors = bg.GetNeighborsInPathBetweenTwoNodes(bg.NodesList[0], bg.NodesList[6])\n",
    "for line in paths:\n",
    "    print map(lambda x:bg.NodesList[x].NodeName, line)\n",
    "print map(lambda x:x.NodeName, neibors)\n",
    "for line in bg.Connections: print map(lambda x:1 if x else 0, line)"
   ]
  }
 ],
 "metadata": {
  "kernelspec": {
   "display_name": "Python 2",
   "language": "python",
   "name": "python2"
  },
  "language_info": {
   "codemirror_mode": {
    "name": "ipython",
    "version": 2
   },
   "file_extension": ".py",
   "mimetype": "text/x-python",
   "name": "python",
   "nbconvert_exporter": "python",
   "pygments_lexer": "ipython2",
   "version": "2.7.9"
  }
 },
 "nbformat": 4,
 "nbformat_minor": 0
}
